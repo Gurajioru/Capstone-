{
 "cells": [
  {
   "cell_type": "code",
   "execution_count": 6,
   "id": "94c6e131",
   "metadata": {},
   "outputs": [],
   "source": [
    "import folium\n",
    "import pandas as pd \n",
    "\n",
    "# Read CSV file\n",
    "data = pd.read_csv(\"airports.csv\")\n",
    "\n",
    "# Create map\n",
    "m = folium.Map(location=[data['Latitude'].mean(), data['Longitude'].mean()], zoom_start = 13)\n",
    "\n",
    "# Add markers for each data point \n",
    "for i in range(0, len(data)):\n",
    "    # \"folium.Marker\" in the code below creates the regular marker logo\n",
    "    #folium.Marker([data.iloc[i]['Latitude'], data.iloc[i]['Longitude']], popup = data.iloc[i]['Name']).add_to(m)\n",
    "    \n",
    "    # \"folium.CircleMarker\" code below creates a circle icon that is mapped to the different airport locations \n",
    "    folium.CircleMarker([data.iloc[i]['Latitude'], data.iloc[i]['Longitude']],\n",
    "    radius = 5, \n",
    "    color = 'blue',\n",
    "    fill = True, \n",
    "    fill_color = 'red', popup = data.iloc[i]['Name']).add_to(m)    \n",
    "\n",
    "# Display the map \n",
    "m\n",
    "                   \n",
    "# Save map to HTML file (See Note Below As Well)\n",
    "# NOTE: the python code also creates javascript code that is used to plot the circular markers \n",
    "# based on the data that was provided by the airports.csv file \n",
    "# the javascript code that is created in the index.html file should be move to its own javascript file for easier handing\n",
    "# of the project code \n",
    "# when the line of code below is uncommented the python code sets the map to its default map view\n",
    "# in order to change this back to the satellite view, we should replace \n",
    "# \"L.tileLayer('https://tile.openstreetmap.org/{z}/{x}/{y}.png'\" in the html code with \n",
    "# \"L.tileLayer('https://api.maptiler.com/maps/hybrid/{z}/{x}/{y}.jpg?key=BZd5rvfllJCXFdUy06CY'\"\n",
    "\n",
    "m.save(\"map.html\")"
   ]
  },
  {
   "cell_type": "code",
   "execution_count": null,
   "id": "216e19c5",
   "metadata": {},
   "outputs": [],
   "source": []
  }
 ],
 "metadata": {
  "kernelspec": {
   "display_name": "Python 3 (ipykernel)",
   "language": "python",
   "name": "python3"
  },
  "language_info": {
   "codemirror_mode": {
    "name": "ipython",
    "version": 3
   },
   "file_extension": ".py",
   "mimetype": "text/x-python",
   "name": "python",
   "nbconvert_exporter": "python",
   "pygments_lexer": "ipython3",
   "version": "3.10.6"
  }
 },
 "nbformat": 4,
 "nbformat_minor": 5
}
